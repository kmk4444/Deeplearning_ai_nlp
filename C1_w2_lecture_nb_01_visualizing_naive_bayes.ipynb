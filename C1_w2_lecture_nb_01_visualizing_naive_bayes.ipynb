{
  "nbformat": 4,
  "nbformat_minor": 0,
  "metadata": {
    "colab": {
      "provenance": [],
      "mount_file_id": "https://github.com/kmk4444/Deeplearning_ai_nlp/blob/main/C1_w2_lecture_nb_01_visualizing_naive_bayes.ipynb",
      "authorship_tag": "ABX9TyO5ogcxDJEuuuLmZ/MJxQW0",
      "include_colab_link": true
    },
    "kernelspec": {
      "name": "python3",
      "display_name": "Python 3"
    },
    "language_info": {
      "name": "python"
    }
  },
  "cells": [
    {
      "cell_type": "markdown",
      "metadata": {
        "id": "view-in-github",
        "colab_type": "text"
      },
      "source": [
        "<a href=\"https://colab.research.google.com/github/kmk4444/Deeplearning_ai_nlp/blob/main/C1_w2_lecture_nb_01_visualizing_naive_bayes.ipynb\" target=\"_parent\"><img src=\"https://colab.research.google.com/assets/colab-badge.svg\" alt=\"Open In Colab\"/></a>"
      ]
    },
    {
      "cell_type": "markdown",
      "source": [
        "# Visualizing Naive Bayes\n",
        "\n",
        "In this lab, we will cover an essential part of data analysis that has not been included in the lecture videos. As we stated in the previous module, data visualization gives insight into the expected performance of any model.\n",
        "\n",
        "In the following exercise, you are going to make a visual inspection of the tweets dataset using the Naïve Bayes features. We will see how we can understand the log-likelihood ratio explained in the videos as a pair of numerical features that can be fed in a machine learning algorithm.\n",
        "\n",
        "At the end of this lab, we will introduce the concept of __confidence ellipse__ as a tool for representing the Naïve Bayes model visually."
      ],
      "metadata": {
        "id": "7EA35wng382k"
      }
    },
    {
      "cell_type": "code",
      "execution_count": 5,
      "metadata": {
        "id": "jHH2uyBq3cLB"
      },
      "outputs": [],
      "source": [
        "import numpy as np # Library for linear algebra and math utils\n",
        "import pandas as pd # Dataframe library\n",
        "\n",
        "import matplotlib.pyplot as plt # Library for plots\n",
        "import re\n",
        "import string\n",
        "\n",
        "from nltk.corpus import stopwords\n",
        "from nltk.stem import PorterStemmer\n",
        "from nltk.tokenize import TweetTokenizer\n",
        "\n",
        "from matplotlib.patches import Ellipse\n",
        "import matplotlib.transforms as transforms"
      ]
    },
    {
      "cell_type": "code",
      "source": [
        "def confidence_ellipse(x, y, ax, n_std=3.0, facecolor='none', **kwargs):\n",
        "    \"\"\"\n",
        "    Create a plot of the covariance confidence ellipse of `x` and `y`\n",
        "\n",
        "    Parameters\n",
        "    ----------\n",
        "    x, y : array_like, shape (n, )\n",
        "        Input data.\n",
        "\n",
        "    ax : matplotlib.axes.Axes\n",
        "        The axes object to draw the ellipse into.\n",
        "\n",
        "    n_std : float\n",
        "        The number of standard deviations to determine the ellipse's radiuses.\n",
        "\n",
        "    Returns\n",
        "    -------\n",
        "    matplotlib.patches.Ellipse\n",
        "\n",
        "    Other parameters\n",
        "    ----------------\n",
        "    kwargs : `~matplotlib.patches.Patch` properties\n",
        "    \"\"\"\n",
        "    if x.size != y.size:\n",
        "        raise ValueError(\"x and y must be the same size\")\n",
        "\n",
        "    cov = np.cov(x, y)\n",
        "    pearson = cov[0, 1] / np.sqrt(cov[0, 0] * cov[1, 1])\n",
        "    # Using a special case to obtain the eigenvalues of this\n",
        "    # two-dimensionl dataset.\n",
        "    ell_radius_x = np.sqrt(1 + pearson)\n",
        "    ell_radius_y = np.sqrt(1 - pearson)\n",
        "    ellipse = Ellipse((0, 0),\n",
        "                      width=ell_radius_x * 2,\n",
        "                      height=ell_radius_y * 2,\n",
        "                      facecolor=facecolor,\n",
        "                      **kwargs)\n",
        "\n",
        "    # Calculating the stdandard deviation of x from\n",
        "    # the squareroot of the variance and multiplying\n",
        "    # with the given number of standard deviations.\n",
        "    scale_x = np.sqrt(cov[0, 0]) * n_std\n",
        "    mean_x = np.mean(x)\n",
        "\n",
        "    # calculating the stdandard deviation of y ...\n",
        "    scale_y = np.sqrt(cov[1, 1]) * n_std\n",
        "    mean_y = np.mean(y)\n",
        "\n",
        "    transf = transforms.Affine2D() \\\n",
        "        .rotate_deg(45) \\\n",
        "        .scale(scale_x, scale_y) \\\n",
        "        .translate(mean_x, mean_y)\n",
        "\n",
        "    ellipse.set_transform(transf + ax.transData)\n",
        "    return ax.add_patch(ellipse)"
      ],
      "metadata": {
        "id": "R0DLKO6x6ID6"
      },
      "execution_count": 4,
      "outputs": []
    },
    {
      "cell_type": "markdown",
      "source": [
        " ## Calculate the likelihoods for each tweet\n",
        "\n",
        "For each tweet, we have calculated the likelihood of the tweet to be positive and the likelihood to be negative. We have calculated in different columns the numerator and denominator of the likelihood ratio introduced previously.  \n",
        "\n",
        "$$log \\frac{P(tweet|pos)}{P(tweet|neg)} = log(P(tweet|pos)) - log(P(tweet|neg)) $$\n",
        "$$positive = log(P(tweet|pos)) = \\sum_{i=0}^{n}{log P(W_i|pos)}$$\n",
        "$$negative = log(P(tweet|neg)) = \\sum_{i=0}^{n}{log P(W_i|neg)}$$\n",
        "\n",
        "We did not include the code because this is part of this week's assignment.  The __'bayes_features.csv'__ file contains the final result of this process.\n",
        "\n",
        "The cell below loads the table in a dataframe. Dataframes are data structures that simplify the manipulation of data, allowing filtering, slicing, joining, and summarization."
      ],
      "metadata": {
        "id": "x4Z3tsMS6kUE"
      }
    },
    {
      "cell_type": "code",
      "source": [
        "data = pd.read_csv('/content/drive/MyDrive/bayes_features.csv'); # Load the data from the csv file\n",
        "\n",
        "data.head(5) # Print the first 5 tweets features. Each row represents a tweet\n"
      ],
      "metadata": {
        "id": "jMMwx1QH6lf3"
      },
      "execution_count": null,
      "outputs": []
    },
    {
      "cell_type": "code",
      "source": [
        "# Plot the samples using columns 1 and 2 of the matrix\n",
        "fig, ax = plt.subplots(figsize = (8, 8)) #Create a new figure with a custom size\n",
        "\n",
        "colors = ['red', 'green'] # Define a color palete\n",
        "sentiments = ['negative', 'positive']\n",
        "\n",
        "index = data.index\n",
        "\n",
        "# Color base on sentiment\n",
        "for sentiment in data.sentiment.unique():\n",
        "    ix = index[data.sentiment == sentiment]\n",
        "    ax.scatter(data.iloc[ix].positive, data.iloc[ix].negative, c=colors[int(sentiment)], s=0.1, marker='*', label=sentiments[int(sentiment)])\n",
        "\n",
        "ax.legend(loc='best')\n",
        "\n",
        "# Custom limits for this chart\n",
        "plt.xlim(-250,0)\n",
        "plt.ylim(-250,0)\n",
        "\n",
        "plt.xlabel('Positive')\n",
        "plt.ylabel('Negative')\n",
        "plt.show()\n"
      ],
      "metadata": {
        "id": "mMGHzizb9Ai3"
      },
      "execution_count": null,
      "outputs": []
    },
    {
      "cell_type": "code",
      "source": [
        "# Plot the samples using columns 1 and 2 of the matrix\n",
        "fig, ax = plt.subplots(figsize = (8, 8))\n",
        "\n",
        "colors = ['red', 'green'] # Define a color palete\n",
        "sentiments = ['negative', 'positive']\n",
        "index = data.index\n",
        "\n",
        "# Color base on sentiment\n",
        "for sentiment in data.sentiment.unique():\n",
        "    ix = index[data.sentiment == sentiment]\n",
        "    ax.scatter(data.iloc[ix].positive, data.iloc[ix].negative, c=colors[int(sentiment)], s=0.1, marker='*', label=sentiments[int(sentiment)])\n",
        "\n",
        "# Custom limits for this chart\n",
        "plt.xlim(-200,40)\n",
        "plt.ylim(-200,40)\n",
        "\n",
        "plt.xlabel(\"Positive\") # x-axis label\n",
        "plt.ylabel(\"Negative\") # y-axis label\n",
        "\n",
        "data_pos = data[data.sentiment == 1] # Filter only the positive samples\n",
        "data_neg = data[data.sentiment == 0] # Filter only the negative samples\n",
        "\n",
        "# Print confidence ellipses of 2 std\n",
        "confidence_ellipse(data_pos.positive, data_pos.negative, ax, n_std=2, edgecolor='black', label=r'$2\\sigma$' )\n",
        "confidence_ellipse(data_neg.positive, data_neg.negative, ax, n_std=2, edgecolor='orange')\n",
        "\n",
        "# Print confidence ellipses of 3 std\n",
        "confidence_ellipse(data_pos.positive, data_pos.negative, ax, n_std=3, edgecolor='black', linestyle=':', label=r'$3\\sigma$')\n",
        "confidence_ellipse(data_neg.positive, data_neg.negative, ax, n_std=3, edgecolor='orange', linestyle=':')\n",
        "ax.legend(loc='lower right')\n",
        "\n",
        "plt.show()"
      ],
      "metadata": {
        "id": "VlF_xQw6QdqH"
      },
      "execution_count": null,
      "outputs": []
    },
    {
      "cell_type": "markdown",
      "source": [
        "In the next cell, we will modify the features of the samples with positive sentiment (1), in a way that the two distributions overlap. In this case, the Naïve Bayes method will produce a lower accuracy than with the original data."
      ],
      "metadata": {
        "id": "Z9iFlbwNZ1nA"
      }
    },
    {
      "cell_type": "code",
      "source": [
        "data2 = data.copy() # Copy the whole data frame\n",
        "\n",
        "# The following 2 lines only modify the entries in the data frame where sentiment == 1\n",
        "data2.negative[data.sentiment == 1] =  data2.negative * 1.5 + 50 # Modify the negative attribute\n",
        "data2.positive[data.sentiment == 1] =  data2.positive / 1.5 - 50 # Modify the positive attribute"
      ],
      "metadata": {
        "id": "33kYOjT1Z2eC"
      },
      "execution_count": 11,
      "outputs": []
    },
    {
      "cell_type": "markdown",
      "source": [
        "Now let us plot the two distributions and the confidence ellipses"
      ],
      "metadata": {
        "id": "XuGZ1mhGZ50b"
      }
    },
    {
      "cell_type": "code",
      "source": [
        "# Plot the samples using columns 1 and 2 of the matrix\n",
        "fig, ax = plt.subplots(figsize = (8, 8))\n",
        "\n",
        "colors = ['red', 'green'] # Define a color palete\n",
        "sentiments = ['negative', 'positive']\n",
        "index = data2.index\n",
        "\n",
        "# Color base on sentiment\n",
        "for sentiment in data2.sentiment.unique():\n",
        "    ix = index[data2.sentiment == sentiment]\n",
        "    ax.scatter(data2.iloc[ix].positive, data2.iloc[ix].negative, c=colors[int(sentiment)], s=0.1, marker='*', label=sentiments[int(sentiment)])\n",
        "\n",
        "#ax.scatter(data2.positive, data2.negative, c=[colors[int(k)] for k in data2.sentiment], s = 0.1, marker='*')  # Plot a dot for tweet\n",
        "# Custom limits for this chart\n",
        "plt.xlim(-200,40)\n",
        "plt.ylim(-200,40)\n",
        "\n",
        "plt.xlabel(\"Positive\") # x-axis label\n",
        "plt.ylabel(\"Negative\") # y-axis label\n",
        "\n",
        "data_pos = data2[data2.sentiment == 1] # Filter only the positive samples\n",
        "data_neg = data[data2.sentiment == 0] # Filter only the negative samples\n",
        "\n",
        "# Print confidence ellipses of 2 std\n",
        "confidence_ellipse(data_pos.positive, data_pos.negative, ax, n_std=2, edgecolor='black', label=r'$2\\sigma$' )\n",
        "confidence_ellipse(data_neg.positive, data_neg.negative, ax, n_std=2, edgecolor='orange')\n",
        "\n",
        "# Print confidence ellipses of 3 std\n",
        "confidence_ellipse(data_pos.positive, data_pos.negative, ax, n_std=3, edgecolor='black', linestyle=':', label=r'$3\\sigma$')\n",
        "confidence_ellipse(data_neg.positive, data_neg.negative, ax, n_std=3, edgecolor='orange', linestyle=':')\n",
        "ax.legend(loc='lower right')\n",
        "\n",
        "plt.show()"
      ],
      "metadata": {
        "id": "sQUxKFSnZ6ey"
      },
      "execution_count": null,
      "outputs": []
    }
  ]
}